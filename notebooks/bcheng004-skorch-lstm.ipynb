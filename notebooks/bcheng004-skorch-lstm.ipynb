{
 "cells": [
  {
   "cell_type": "code",
   "execution_count": 1,
   "source": [
    "%load_ext autoreload\r\n",
    "%autoreload 2\r\n",
    "import warnings\r\n",
    "warnings.simplefilter(action='ignore')"
   ],
   "outputs": [],
   "metadata": {}
  },
  {
   "cell_type": "markdown",
   "source": [
    "### LSTM Skorch example"
   ],
   "metadata": {}
  },
  {
   "cell_type": "code",
   "execution_count": 34,
   "source": [
    "import numpy as np\r\n",
    "from sklearn.datasets import make_regression\r\n",
    "from sklearn.pipeline import Pipeline\r\n",
    "from sklearn.preprocessing import MinMaxScaler\r\n",
    "from skorch import NeuralNetRegressor\r\n",
    "import torch.nn as nn\r\n",
    "import torch\r\n",
    "from icecream import ic\r\n",
    "\r\n",
    "X_regr, y_regr = make_regression(\r\n",
    "    1000,\r\n",
    "    20,\r\n",
    "    n_informative=10,\r\n",
    "    random_state=0\r\n",
    ")\r\n",
    "X_regr = X_regr.astype(np.float32)\r\n",
    "y_regr = y_regr.astype(np.float32)/100\r\n",
    "y_regr = y_regr.reshape(-1,1)\r\n",
    "ni, no, nh, nlayers = 20, 1, 10, 3"
   ],
   "outputs": [],
   "metadata": {}
  },
  {
   "cell_type": "code",
   "execution_count": 44,
   "source": [
    "class LSTM(nn.Module):\r\n",
    "    def __init__(self,ni=6,no=3,nh=10,nlayers=1):\r\n",
    "        super(LSTM,self).__init__()\r\n",
    "        self.ni = ni\r\n",
    "        self.no = no\r\n",
    "        self.nh = nh\r\n",
    "        self.nlayers = nlayers\r\n",
    "        self.lstms = nn.ModuleList(\r\n",
    "            [nn.LSTMCell(self.ni,self.nh)]+[nn.LSTMCell(self.nh,self.nh) for i in range(nlayers-1)]\r\n",
    "        )\r\n",
    "        self.out = nn.Linear(self.nh,self.no)\r\n",
    "        self.do = nn.Dropout(p=0.2)\r\n",
    "        self.activation_function = nn.Tanh()\r\n",
    "        self.dtype = torch.float\r\n",
    "    def forward(self,x,h0=None,train=False):\r\n",
    "        hs = x # initiate hidden state\r\n",
    "        if h0 is None:\r\n",
    "            h = torch.zeros(hs.shape[0],self.nh,device=x.device)\r\n",
    "            c = torch.zeros(hs.shape[0],self.nh,device=x.device)\r\n",
    "        else:\r\n",
    "            (h,c) = h0\r\n",
    "        # LSTM cells\r\n",
    "        for i in range(self.nlayers):\r\n",
    "            h, c = self.lstms[i](hs, (h,c))\r\n",
    "            if train:\r\n",
    "                hs = self.do(h)\r\n",
    "            else:\r\n",
    "                hs = h\r\n",
    "        y = self.out(hs)\r\n",
    "        return y, (h,c)\r\n",
    "\r\n",
    "class ContextlessMSE(nn.MSELoss):\r\n",
    "    def forward(self,y_pred,y_true):\r\n",
    "        y, (h,c) = y_pred # extract prediction and context information\r\n",
    "        return super().forward(y,y_true)\r\n",
    "\r\n",
    "lstm_regressor = NeuralNetRegressor(\r\n",
    "    module=LSTM, \r\n",
    "    module__ni=ni,\r\n",
    "    module__no=no,\r\n",
    "    module__nh=nh,\r\n",
    "    module__nlayers=nlayers,\r\n",
    "    max_epochs=20,\r\n",
    "    lr=0.1,\r\n",
    "    criterion=ContextlessMSE\r\n",
    ")"
   ],
   "outputs": [],
   "metadata": {}
  },
  {
   "cell_type": "code",
   "execution_count": 45,
   "source": [
    "lstm_regressor_pipeline = Pipeline([('lstm',lstm_regressor)])\r\n",
    "lstm_regressor_pipeline.fit(X_regr,y_regr)"
   ],
   "outputs": [
    {
     "output_type": "stream",
     "name": "stdout",
     "text": [
      "  epoch    train_loss    valid_loss     dur\n",
      "-------  ------------  ------------  ------\n",
      "      1        \u001b[36m4.7202\u001b[0m        \u001b[32m4.0712\u001b[0m  0.0222\n",
      "      2        \u001b[36m4.6817\u001b[0m        \u001b[32m4.0438\u001b[0m  0.0283\n",
      "      3        \u001b[36m4.6543\u001b[0m        \u001b[32m4.0213\u001b[0m  0.0255\n",
      "      4        \u001b[36m4.6274\u001b[0m        \u001b[32m3.9967\u001b[0m  0.0322\n",
      "      5        \u001b[36m4.5950\u001b[0m        \u001b[32m3.9648\u001b[0m  0.0206\n",
      "      6        \u001b[36m4.5500\u001b[0m        \u001b[32m3.9174\u001b[0m  0.0286\n",
      "      7        \u001b[36m4.4792\u001b[0m        \u001b[32m3.8385\u001b[0m  0.0384\n",
      "      8        \u001b[36m4.3555\u001b[0m        \u001b[32m3.6909\u001b[0m  0.0322\n",
      "      9        \u001b[36m4.1121\u001b[0m        \u001b[32m3.3738\u001b[0m  0.0350\n",
      "     10        \u001b[36m3.5666\u001b[0m        \u001b[32m2.6097\u001b[0m  0.0240\n",
      "     11        \u001b[36m2.3671\u001b[0m        \u001b[32m1.2702\u001b[0m  0.0303\n",
      "     12        \u001b[36m1.0404\u001b[0m        \u001b[32m0.6253\u001b[0m  0.0251\n",
      "     13        \u001b[36m0.6314\u001b[0m        \u001b[32m0.5236\u001b[0m  0.0295\n",
      "     14        \u001b[36m0.5443\u001b[0m        \u001b[32m0.4820\u001b[0m  0.0309\n",
      "     15        \u001b[36m0.4885\u001b[0m        \u001b[32m0.4523\u001b[0m  0.0461\n",
      "     16        \u001b[36m0.4408\u001b[0m        \u001b[32m0.4340\u001b[0m  0.0302\n",
      "     17        \u001b[36m0.4015\u001b[0m        \u001b[32m0.4155\u001b[0m  0.0285\n",
      "     18        \u001b[36m0.3717\u001b[0m        \u001b[32m0.3600\u001b[0m  0.0285\n",
      "     19        \u001b[36m0.3291\u001b[0m        \u001b[32m0.3247\u001b[0m  0.0271\n",
      "     20        \u001b[36m0.3039\u001b[0m        \u001b[32m0.2730\u001b[0m  0.0320\n"
     ]
    },
    {
     "output_type": "execute_result",
     "data": {
      "text/plain": [
       "Pipeline(steps=[('lstm',\n",
       "                 <class 'skorch.regressor.NeuralNetRegressor'>[initialized](\n",
       "  module_=LSTM(\n",
       "    (lstms): ModuleList(\n",
       "      (0): LSTMCell(20, 10)\n",
       "      (1): LSTMCell(10, 10)\n",
       "      (2): LSTMCell(10, 10)\n",
       "    )\n",
       "    (out): Linear(in_features=10, out_features=1, bias=True)\n",
       "    (do): Dropout(p=0.2, inplace=False)\n",
       "    (activation_function): Tanh()\n",
       "  ),\n",
       "))])"
      ]
     },
     "metadata": {},
     "execution_count": 45
    }
   ],
   "metadata": {}
  },
  {
   "cell_type": "code",
   "execution_count": 52,
   "source": [
    "# lstm_regressor_pipeline.named_steps['lstm'].get_params()\r\n",
    "y_pred = lstm_regressor_pipeline.predict(X_regr[:5])\r\n",
    "ic(y_pred);"
   ],
   "outputs": [
    {
     "output_type": "stream",
     "name": "stderr",
     "text": [
      "ic| y_pred: array([[ 0.44321513],\n",
      "                   [-1.9767034 ],\n",
      "                   [-0.13864079],\n",
      "                   [-0.6392553 ],\n",
      "                   [-0.70358443]], dtype=float32)\n"
     ]
    }
   ],
   "metadata": {}
  },
  {
   "cell_type": "markdown",
   "source": [
    "### Real Data LSTM Example"
   ],
   "metadata": {}
  },
  {
   "cell_type": "code",
   "execution_count": 58,
   "source": [
    "import pandas as pd\r\n",
    "import seaborn as sns\r\n",
    "from IPython.display import display\r\n",
    "import matplotlib.pyplot as plt\r\n",
    "\r\n",
    "flights_df = sns.load_dataset(\"flights\")\r\n",
    "plt.figure(figsize=(8,6))\r\n",
    "plt.plot(flights_df.passengers)\r\n",
    "plt.title(\"Total Passengers vs Months\")\r\n",
    "plt.grid(True)\r\n",
    "plt.show();"
   ],
   "outputs": [
    {
     "output_type": "display_data",
     "data": {
      "image/png": "[encoded data removed]",
      "text/plain": [
       "<Figure size 576x432 with 1 Axes>"
      ]
     },
     "metadata": {
      "needs_background": "light"
     }
    }
   ],
   "metadata": {}
  },
  {
   "cell_type": "code",
   "execution_count": 69,
   "source": [
    "test_data_size = 12\r\n",
    "all_data = flights_df['passengers'].values.astype(np.float32)\r\n",
    "train_data, test_data = all_data[:-test_data_size], all_data[-test_data_size:]\r\n",
    "\r\n",
    "def create_sequences(data, seq_length):\r\n",
    "    x_list, y_list = [], []\r\n",
    "    for i in range(len(data)-seq_length-1):\r\n",
    "        x = data[i:(i+seq_length)]\r\n",
    "        y = data[(i+seq_length):(i+seq_length+1)]\r\n",
    "        x_list.append(x)\r\n",
    "        y_list.append(y)\r\n",
    "    return np.array(x_list), np.array(y_list)\r\n",
    "\r\n",
    "seq_length = 12\r\n",
    "X_train, y_train = create_sequences(train_data,seq_length)\r\n",
    "X_test, y_test = create_sequences(test_data,seq_length)"
   ],
   "outputs": [],
   "metadata": {}
  },
  {
   "cell_type": "code",
   "execution_count": 87,
   "source": [
    "class flightLSTM(nn.Module):\r\n",
    "    def __init__(self,input_size=12,hidden_layer_size=100,output_size=1):\r\n",
    "        super(flightLSTM,self).__init__()\r\n",
    "        self.hidden_layer_size = hidden_layer_size\r\n",
    "        self.hidden = (\r\n",
    "                torch.zeros(1,1,self.hidden_layer_size),\r\n",
    "                torch.zeros(1,1,self.hidden_layer_size)\r\n",
    "            )\r\n",
    "        self.lstm = nn.LSTM(\r\n",
    "            input_size=input_size,\r\n",
    "            hidden_size=hidden_layer_size\r\n",
    "        )\r\n",
    "        self.linear = nn.Linear(\r\n",
    "            in_features=hidden_layer_size,\r\n",
    "            out_features=output_size\r\n",
    "        )\r\n",
    "    def forward(self,input_seq):\r\n",
    "        lstm_out, self.hidden = self.lstm(input_seq.view(len(input_seq),1,-1),self.hidden)\r\n",
    "        preds = self.linear(lstm_out.view(len(input_seq),-1))\r\n",
    "        y_pred = preds[-1]\r\n",
    "        return y_pred\r\n",
    "\r\n",
    "class flightMSE(nn.MSELoss):\r\n",
    "    def forward(self,y,y_true):\r\n",
    "        y_pred = y # extract prediction and context information\r\n",
    "        return super().forward(y_pred,y_true)\r\n",
    "\r\n",
    "\r\n",
    "flight_lstm_regressor = NeuralNetRegressor(\r\n",
    "    module=flightLSTM,\r\n",
    "    module__input_size=seq_length,\r\n",
    "    module__hidden_layer_size=100,\r\n",
    "    module__output_size=1,\r\n",
    "    max_epochs=20,\r\n",
    "    lr=0.001,\r\n",
    "    criterion=flightMSE\r\n",
    ")\r\n",
    "\r\n",
    "flight_lstm_regressor_pipeline = Pipeline([\r\n",
    "    ('scale',MinMaxScaler(feature_range=(-1,1))),\r\n",
    "    ('lstm',flight_lstm_regressor)\r\n",
    "])"
   ],
   "outputs": [],
   "metadata": {}
  },
  {
   "cell_type": "code",
   "execution_count": 88,
   "source": [
    "flight_lstm_regressor_pipeline.fit(X_train,y_train)"
   ],
   "outputs": [
    {
     "output_type": "stream",
     "name": "stdout",
     "text": [
      "  epoch    train_loss    valid_loss     dur\n",
      "-------  ------------  ------------  ------\n",
      "      1   \u001b[36m101423.6094\u001b[0m    \u001b[32m24406.5312\u001b[0m  0.0227\n",
      "      2   \u001b[36m100660.6328\u001b[0m    \u001b[32m24346.5605\u001b[0m  0.0306\n",
      "      3    \u001b[36m99424.8281\u001b[0m    24625.5215  0.0353\n",
      "      4    \u001b[36m96403.5234\u001b[0m    25373.4062  0.0304\n",
      "      5    \u001b[36m87101.1406\u001b[0m     \u001b[32m9300.4062\u001b[0m  0.0693\n",
      "      6    \u001b[36m66992.8125\u001b[0m     \u001b[32m3012.6956\u001b[0m  0.0409\n",
      "      7    \u001b[36m47753.0039\u001b[0m      \u001b[32m660.1666\u001b[0m  0.0304\n",
      "      8    \u001b[36m33678.9492\u001b[0m     1033.1843  0.0358\n",
      "      9    \u001b[36m24473.6523\u001b[0m     2820.0354  0.0373\n",
      "     10    \u001b[36m18581.8926\u001b[0m     5199.7690  0.0422\n",
      "     11    \u001b[36m14821.6787\u001b[0m     7707.5142  0.0398\n",
      "     12    \u001b[36m12424.1055\u001b[0m    10096.8271  0.0501\n",
      "     13    \u001b[36m10895.9932\u001b[0m    12250.9072  0.0485\n",
      "     14     \u001b[36m9922.2441\u001b[0m    14127.5732  0.0478\n",
      "     15     \u001b[36m9301.8242\u001b[0m    15725.6562  0.0613\n",
      "     16     \u001b[36m8906.5596\u001b[0m    17064.9941  0.0662\n",
      "     17     \u001b[36m8654.7539\u001b[0m    18174.6465  0.0651\n",
      "     18     \u001b[36m8494.3447\u001b[0m    19086.1777  0.1089\n",
      "     19     \u001b[36m8392.1602\u001b[0m    19830.1953  0.0251\n",
      "     20     \u001b[36m8327.0693\u001b[0m    20434.5254  0.0317\n"
     ]
    },
    {
     "output_type": "execute_result",
     "data": {
      "text/plain": [
       "Pipeline(steps=[('scale', MinMaxScaler(feature_range=(-1, 1))),\n",
       "                ('lstm',\n",
       "                 <class 'skorch.regressor.NeuralNetRegressor'>[initialized](\n",
       "  module_=flightLSTM(\n",
       "    (lstm): LSTM(12, 100)\n",
       "    (linear): Linear(in_features=100, out_features=1, bias=True)\n",
       "  ),\n",
       "))])"
      ]
     },
     "metadata": {},
     "execution_count": 88
    }
   ],
   "metadata": {}
  }
 ],
 "metadata": {
  "orig_nbformat": 4,
  "language_info": {
   "name": "python",
   "version": "3.7.0",
   "mimetype": "text/x-python",
   "codemirror_mode": {
    "name": "ipython",
    "version": 3
   },
   "pygments_lexer": "ipython3",
   "nbconvert_exporter": "python",
   "file_extension": ".py"
  },
  "kernelspec": {
   "name": "python3",
   "display_name": "Python 3.7.0 64-bit ('base': conda)"
  },
  "interpreter": {
   "hash": "64d303618c8ee9f1cee103d362ed2586b5f50e4b11555251f761d52c2b006ae5"
  }
 },
 "nbformat": 4,
 "nbformat_minor": 2
}