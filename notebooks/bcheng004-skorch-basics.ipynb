{
 "cells": [
  {
   "cell_type": "code",
   "execution_count": 1,
   "source": [
    "%load_ext autoreload\r\n",
    "%autoreload 2\r\n",
    "import warnings\r\n",
    "warnings.simplefilter(action='ignore')"
   ],
   "outputs": [],
   "metadata": {}
  },
  {
   "cell_type": "markdown",
   "source": [
    "### RegressorModule"
   ],
   "metadata": {}
  },
  {
   "cell_type": "code",
   "execution_count": 3,
   "source": [
    "import torch\r\n",
    "from torch import nn\r\n",
    "import torch.nn.functional as F\r\n",
    "from sklearn.datasets import make_regression\r\n",
    "import numpy as np\r\n",
    "\r\n",
    "torch.manual_seed(0)\r\n",
    "torch.cuda.manual_seed(0)\r\n",
    "X_regr, y_regr = make_regression(1000,20,n_informative=10,random_state=0)\r\n",
    "X_regr = X_regr.astype(np.float32)\r\n",
    "y_regr = y_regr.astype(np.float32)/100\r\n",
    "y_regr = y_regr.reshape(-1,1)"
   ],
   "outputs": [],
   "metadata": {}
  },
  {
   "cell_type": "code",
   "execution_count": 5,
   "source": [
    "from skorch import NeuralNetRegressor\r\n",
    "from sklearn.pipeline import Pipeline\r\n",
    "\r\n",
    "class RegressorModule(nn.Module):\r\n",
    "    def __init__(self,num_units=10,nonlin=F.relu):\r\n",
    "        super(RegressorModule,self).__init__()\r\n",
    "        self.num_units = num_units\r\n",
    "        self.nonlin = nonlin\r\n",
    "        self.dense0 = nn.Linear(20,num_units)\r\n",
    "        self.nonlin = nonlin\r\n",
    "        self.dense1 = nn.Linear(num_units,10)\r\n",
    "        self.output = nn.Linear(10,1)\r\n",
    "    def forward(self,X,**kwargs):\r\n",
    "        X = self.nonlin(self.dense0(X))\r\n",
    "        X = F.relu(self.dense1(X))\r\n",
    "        X = self.output(X)\r\n",
    "        return X\r\n",
    "\r\n",
    "nn_regressor = NeuralNetRegressor(RegressorModule,max_epochs=20,lr=0.1)\r\n",
    "nn_regressor_pipeline = Pipeline([('net',nn_regressor)])"
   ],
   "outputs": [],
   "metadata": {}
  },
  {
   "cell_type": "code",
   "execution_count": 6,
   "source": [
    "nn_regressor_pipeline.fit(X_regr,y_regr)"
   ],
   "outputs": [
    {
     "output_type": "stream",
     "name": "stdout",
     "text": [
      "  epoch    train_loss    valid_loss     dur\n",
      "-------  ------------  ------------  ------\n",
      "      1        \u001b[36m4.6521\u001b[0m        \u001b[32m3.9025\u001b[0m  0.1130\n",
      "      2        \u001b[36m4.2853\u001b[0m        \u001b[32m3.2140\u001b[0m  0.0410\n",
      "      3        \u001b[36m2.4202\u001b[0m        \u001b[32m0.5702\u001b[0m  0.0640\n",
      "      4        \u001b[36m0.4799\u001b[0m        \u001b[32m0.2762\u001b[0m  0.0740\n",
      "      5        \u001b[36m0.2664\u001b[0m        0.4691  0.0590\n",
      "      6        0.3470        \u001b[32m0.1310\u001b[0m  0.0910\n",
      "      7        \u001b[36m0.1079\u001b[0m        \u001b[32m0.1244\u001b[0m  0.0880\n",
      "      8        \u001b[36m0.0805\u001b[0m        \u001b[32m0.0744\u001b[0m  0.0380\n",
      "      9        \u001b[36m0.0744\u001b[0m        0.1681  0.0710\n",
      "     10        0.1528        0.1326  0.0580\n",
      "     11        0.1552        0.1704  0.0690\n",
      "     12        0.1021        \u001b[32m0.0694\u001b[0m  0.0610\n",
      "     13        \u001b[36m0.0634\u001b[0m        \u001b[32m0.0530\u001b[0m  0.0640\n",
      "     14        \u001b[36m0.0298\u001b[0m        \u001b[32m0.0342\u001b[0m  0.0920\n",
      "     15        0.0368        0.0375  0.0580\n",
      "     16        \u001b[36m0.0234\u001b[0m        \u001b[32m0.0326\u001b[0m  0.0530\n",
      "     17        0.0396        0.0398  0.0490\n",
      "     18        0.0281        0.0368  0.0710\n",
      "     19        0.0417        0.0334  0.0590\n",
      "     20        \u001b[36m0.0232\u001b[0m        \u001b[32m0.0294\u001b[0m  0.0550\n"
     ]
    },
    {
     "output_type": "execute_result",
     "data": {
      "text/plain": [
       "Pipeline(steps=[('net',\n",
       "                 <class 'skorch.regressor.NeuralNetRegressor'>[initialized](\n",
       "  module_=RegressorModule(\n",
       "    (dense0): Linear(in_features=20, out_features=10, bias=True)\n",
       "    (dense1): Linear(in_features=10, out_features=10, bias=True)\n",
       "    (output): Linear(in_features=10, out_features=1, bias=True)\n",
       "  ),\n",
       "))])"
      ]
     },
     "metadata": {},
     "execution_count": 6
    }
   ],
   "metadata": {}
  },
  {
   "cell_type": "code",
   "execution_count": 7,
   "source": [
    "y_pred = nn_regressor_pipeline.predict(X_regr[:5])\r\n",
    "y_pred"
   ],
   "outputs": [
    {
     "output_type": "execute_result",
     "data": {
      "text/plain": [
       "array([[ 0.24164385],\n",
       "       [-1.5176821 ],\n",
       "       [-0.89105093],\n",
       "       [-0.2990006 ],\n",
       "       [-0.51240546]], dtype=float32)"
      ]
     },
     "metadata": {},
     "execution_count": 7
    }
   ],
   "metadata": {}
  },
  {
   "cell_type": "markdown",
   "source": [
    "### Save and load model"
   ],
   "metadata": {}
  },
  {
   "cell_type": "code",
   "execution_count": 8,
   "source": [
    "import pickle\r\n",
    "\r\n",
    "file_name = 'nn_regressor.pkl'\r\n",
    "with open(file_name,'wb') as pkl_file:\r\n",
    "    pickle.dump(nn_regressor_pipeline,pkl_file)\r\n",
    "with open(file_name,'rb') as saved_model:\r\n",
    "    new_nn_regressor_pipeline = pickle.load(saved_model)"
   ],
   "outputs": [],
   "metadata": {}
  },
  {
   "cell_type": "markdown",
   "source": [
    "### save only model params"
   ],
   "metadata": {}
  },
  {
   "cell_type": "code",
   "execution_count": 19,
   "source": [
    "nn_regressor_pipeline.named_steps['net'].save_params(f_params=file_name)\r\n",
    "new_nn_regressor = NeuralNetRegressor(RegressorModule,max_epochs=20,lr=0.1).initialize()\r\n",
    "new_nn_regressor.load_params(file_name)"
   ],
   "outputs": [],
   "metadata": {}
  }
 ],
 "metadata": {
  "orig_nbformat": 4,
  "language_info": {
   "name": "python",
   "version": "3.7.0",
   "mimetype": "text/x-python",
   "codemirror_mode": {
    "name": "ipython",
    "version": 3
   },
   "pygments_lexer": "ipython3",
   "nbconvert_exporter": "python",
   "file_extension": ".py"
  },
  "kernelspec": {
   "name": "python3",
   "display_name": "Python 3.7.0 64-bit ('base': conda)"
  },
  "interpreter": {
   "hash": "64d303618c8ee9f1cee103d362ed2586b5f50e4b11555251f761d52c2b006ae5"
  }
 },
 "nbformat": 4,
 "nbformat_minor": 2
}